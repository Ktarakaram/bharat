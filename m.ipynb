{
 "cells": [
  {
   "cell_type": "code",
   "execution_count": null,
   "id": "13e2d5ff-24a5-4064-9bdb-fbb5e8444a06",
   "metadata": {},
   "outputs": [],
   "source": [
    "import pandas as pd\n",
    "from scipy import sparse"
   ]
  },
  {
   "cell_type": "code",
   "execution_count": null,
   "id": "d5825e96-5af5-4df9-82a1-e32aa379ae7a",
   "metadata": {},
   "outputs": [],
   "source": [
    "ratings = pd.read_csv('ratings.csv')\n",
    "movies = pd.read_csv('movies.csv')\n",
    "ratings = pd.merge(movies,ratings).drop(['genres','timestamp'],axis=1)\n",
    "print(ratings.shape)\n",
    "ratings.head()"
   ]
  },
  {
   "cell_type": "code",
   "execution_count": null,
   "id": "557d1fa1-2a5d-4278-9aa5-8328c2db7f80",
   "metadata": {},
   "outputs": [],
   "source": [
    "userRatings = ratings.pivot_table(index=['userId'],columns=['title'],values='rating')\n",
    "userRatings.head()\n",
    "print(\"Before: \",userRatings.shape)\n",
    "userRatings = userRatings.dropna(thresh=10, axis=1).fillna(0,axis=1)\n",
    "#userRatings.fillna(0, inplace=True)\n",
    "print(\"After: \",userRatings.shape)"
   ]
  },
  {
   "cell_type": "code",
   "execution_count": null,
   "id": "2f2a5261-ba87-475a-b562-1c3c341d09ab",
   "metadata": {},
   "outputs": [],
   "source": [
    "corrMatrix = userRatings.corr(method='pearson')\n",
    "corrMatrix.head(100)"
   ]
  },
  {
   "cell_type": "code",
   "execution_count": null,
   "id": "ae8a3e01-a82b-470a-96cc-65a747dcd215",
   "metadata": {},
   "outputs": [],
   "source": [
    "def get_similar(movie_name,rating):\n",
    "    similar_ratings = corrMatrix[movie_name]*(rating-2.5)\n",
    "    similar_ratings = similar_ratings.sort_values(ascending=False)\n",
    "    #print(type(similar_ratings))\n",
    "    return similar_ratings"
   ]
  },
  {
   "cell_type": "code",
   "execution_count": null,
   "id": "e2f72822-2226-4aec-b1ec-f7bdf96a5818",
   "metadata": {},
   "outputs": [],
   "source": [
    "romantic_lover = [(\"(500) Days of Summer (2009)\",5),(\"Alice in Wonderland (2010)\",3),(\"Aliens (1986)\",1),(\"2001: A Space Odyssey (1968)\",2)]\n",
    "data = []  # List to store data\n",
    "for movie,rating in romantic_lover:\n",
    "     data.append(get_similar(movie,rating))\n",
    "df=pd.DataFrame(data)     # Creating DataFrame from the list\n",
    "#df.head(10)"
   ]
  },
  {
   "cell_type": "code",
   "execution_count": null,
   "id": "efe1e0e1-41d9-491e-bee5-64d313040af9",
   "metadata": {},
   "outputs": [],
   "source": [
    "df.sum().sort_values(ascending=False).head(20)"
   ]
  },
  {
   "cell_type": "code",
   "execution_count": null,
   "id": "4fab4468-a628-43d5-8170-02923d3ff3d3",
   "metadata": {},
   "outputs": [],
   "source": [
    "action_lover = [(\"Amazing Spider-Man, The (2012)\",5),(\"Mission: Impossible III (2006)\",4),(\"Toy Story 3 (2010)\",2),(\"2 Fast 2 Furious (Fast and the Furious 2, The) (2003)\",4)]\n",
    "mn=[]\n",
    "for movie,rating in action_lover:\n",
    "    mn.append(get_similar(movie,rating))   \n",
    "similar_movies = pd.DataFrame(mn)   # Creating DataFrame from the list\n",
    "similar_movies.head(10)\n",
    "similar_movies.sum().sort_values(ascending=False).head(20)"
   ]
  },
  {
   "cell_type": "code",
   "execution_count": null,
   "id": "e48cb975-0e07-43be-9c03-715f8e51a351",
   "metadata": {},
   "outputs": [],
   "source": []
  },
  {
   "cell_type": "code",
   "execution_count": null,
   "metadata": {},
   "outputs": [],
   "source": []
  }
 ],
 "metadata": {
  "kernelspec": {
   "display_name": "Python 3 (ipykernel)",
   "language": "python",
   "name": "python3"
  },
  "language_info": {
   "codemirror_mode": {
    "name": "ipython",
    "version": 3
   },
   "file_extension": ".py",
   "mimetype": "text/x-python",
   "name": "python",
   "nbconvert_exporter": "python",
   "pygments_lexer": "ipython3",
   "version": "3.11.6"
  }
 },
 "nbformat": 4,
 "nbformat_minor": 5
}
